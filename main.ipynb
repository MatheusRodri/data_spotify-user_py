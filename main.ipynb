{
 "cells": [
  {
   "cell_type": "markdown",
   "metadata": {
    "application/vnd.databricks.v1+cell": {
     "cellMetadata": {},
     "inputWidgets": {},
     "nuid": "8dd27cef-39d5-4957-8134-b59684eed496",
     "showTitle": false,
     "tableResultSettingsMap": {},
     "title": ""
    }
   },
   "source": [
    "# Analise Spotify"
   ]
  },
  {
   "cell_type": "code",
   "execution_count": 0,
   "metadata": {
    "application/vnd.databricks.v1+cell": {
     "cellMetadata": {
      "byteLimit": 2048000,
      "rowLimit": 10000
     },
     "inputWidgets": {},
     "nuid": "715cc12e-b9e9-4d8a-a9ee-5ed53470d473",
     "showTitle": false,
     "tableResultSettingsMap": {},
     "title": ""
    }
   },
   "outputs": [],
   "source": [
    "# Importe das bibliotecas\n",
    "import pandas as pd\n",
    "%pip install openpyxl"
   ]
  },
  {
   "cell_type": "code",
   "execution_count": 0,
   "metadata": {
    "application/vnd.databricks.v1+cell": {
     "cellMetadata": {
      "byteLimit": 2048000,
      "rowLimit": 10000
     },
     "inputWidgets": {},
     "nuid": "4abffe42-1f85-49e4-8f93-4922dee126f1",
     "showTitle": false,
     "tableResultSettingsMap": {},
     "title": ""
    }
   },
   "outputs": [],
   "source": [
    "data_2021_2023_audio = pd.read_json(\"/Workspace/Users/matheus.rj25@hotmail.com/data_spotify-user_py/data/extended/Streaming_History_Audio_2021-2023_0.json\")\n",
    "data_2023_2024_audio = pd.read_json(\"/Workspace/Users/matheus.rj25@hotmail.com/data_spotify-user_py/data/extended/Streaming_History_Audio_2023-2024_1.json\")\n",
    "data_2024_2025_audio = pd.read_json(\"/Workspace/Users/matheus.rj25@hotmail.com/data_spotify-user_py/data/extended/Streaming_History_Audio_2024-2025_2.json\")\n",
    "data_2022_2025_video = pd.read_json(\"/Workspace/Users/matheus.rj25@hotmail.com/data_spotify-user_py/data/extended/Streaming_History_Video_2022-2025.json\")"
   ]
  },
  {
   "cell_type": "code",
   "execution_count": 0,
   "metadata": {
    "application/vnd.databricks.v1+cell": {
     "cellMetadata": {
      "byteLimit": 2048000,
      "rowLimit": 10000
     },
     "inputWidgets": {},
     "nuid": "7fc98ea9-a585-4a42-9845-43b9f9727ef1",
     "showTitle": false,
     "tableResultSettingsMap": {
      "0": {
       "dataGridStateBlob": "{\"version\":1,\"tableState\":{\"columnPinning\":{\"left\":[\"#row_number#\"],\"right\":[]},\"columnSizing\":{\"skipped\":90,\"offline\":90},\"columnVisibility\":{}},\"settings\":{\"columns\":{}},\"syncTimestamp\":1752017636868}",
       "filterBlob": null,
       "queryPlanFiltersBlob": null,
       "tableResultIndex": 0
      }
     },
     "title": ""
    }
   },
   "outputs": [],
   "source": [
    "# Empinha os dados\n",
    "\n",
    "data_audio = pd.concat([data_2021_2023_audio, data_2023_2024_audio, data_2024_2025_audio])\n",
    "# data_video = data_2022_2025_video\n",
    "\n",
    "display(data_audio.head(5))\n",
    "# display(data_video.head(5))"
   ]
  },
  {
   "cell_type": "code",
   "execution_count": 0,
   "metadata": {
    "application/vnd.databricks.v1+cell": {
     "cellMetadata": {
      "byteLimit": 2048000,
      "rowLimit": 10000
     },
     "inputWidgets": {},
     "nuid": "b307fd78-747a-4d6f-b750-2af4ecd650a4",
     "showTitle": false,
     "tableResultSettingsMap": {},
     "title": ""
    }
   },
   "outputs": [],
   "source": [
    "# Remove colluns desnecessary\n",
    "\n",
    "data_audio_clean = data_audio.drop(columns=[\"conn_country\",\"ip_addr\",\"spotify_episode_uri\",\"audiobook_title\",\"audiobook_uri\",\"audiobook_chapter_uri\",\"audiobook_chapter_title\"])\n",
    "# data_video_clean = data_video.drop(columns=[\"conn_country\",\"ip_addr\",])"
   ]
  },
  {
   "cell_type": "code",
   "execution_count": 0,
   "metadata": {
    "application/vnd.databricks.v1+cell": {
     "cellMetadata": {
      "byteLimit": 2048000,
      "rowLimit": 10000
     },
     "inputWidgets": {},
     "nuid": "1cb1a66f-1aa1-42dd-9791-4fcf9bb160ef",
     "showTitle": false,
     "tableResultSettingsMap": {
      "0": {
       "dataGridStateBlob": "{\"version\":1,\"tableState\":{\"columnPinning\":{\"left\":[\"#row_number#\"],\"right\":[]},\"columnSizing\":{\"ts\":302},\"columnVisibility\":{}},\"settings\":{\"columns\":{}},\"syncTimestamp\":1752074109728}",
       "filterBlob": null,
       "queryPlanFiltersBlob": null,
       "tableResultIndex": 0
      }
     },
     "title": ""
    }
   },
   "outputs": [],
   "source": [
    "# Create 3 columns year, mounth and day from ts column\n",
    "\n",
    "#Convert ts column to datetime\n",
    "data_audio_clean['ts'] = pd.to_datetime(data_audio_clean['ts']).dt.tz_localize(None)\n",
    "\n",
    "#Create columns year\n",
    "data_audio_clean['year'] = data_audio_clean['ts'].dt.year\n",
    "\n",
    "#Create columns mounth with zero left\n",
    "\n",
    "data_audio_clean['mounth'] = data_audio_clean['ts'].dt.strftime('%m')\n",
    "\n",
    "#Create columns day\n",
    "data_audio_clean['day'] = data_audio_clean['ts'].dt.strftime('%d')\n",
    "\n",
    "display(data_audio_clean)"
   ]
  },
  {
   "cell_type": "code",
   "execution_count": 0,
   "metadata": {
    "application/vnd.databricks.v1+cell": {
     "cellMetadata": {
      "byteLimit": 2048000,
      "rowLimit": 10000
     },
     "inputWidgets": {},
     "nuid": "3a513551-28e0-4b1f-b403-9f41b56ab639",
     "showTitle": false,
     "tableResultSettingsMap": {},
     "title": ""
    }
   },
   "outputs": [],
   "source": [
    "# Generate a excel fie\n",
    "\n",
    "data_audio_clean.to_excel(\"/Workspace/Users/matheus.rj25@hotmail.com/data_spotify-user_py/data/extended/data_audio_clean.xlsx\")"
   ]
  },
  {
   "cell_type": "code",
   "execution_count": 0,
   "metadata": {
    "application/vnd.databricks.v1+cell": {
     "cellMetadata": {
      "byteLimit": 2048000,
      "rowLimit": 10000
     },
     "inputWidgets": {},
     "nuid": "608e5de0-3ceb-4741-a3ab-a96622829f72",
     "showTitle": false,
     "tableResultSettingsMap": {},
     "title": ""
    }
   },
   "outputs": [],
   "source": [
    "#converte o dataframe para um dataframe do spark\n",
    "data_audio_clean_df = spark.createDataFrame(data_audio_clean)\n",
    "\n",
    "# Salva a base de dados\n",
    "\n",
    "data_audio_clean_df.write.mode(\"overwrite\").saveAsTable(\"tabela_teste\")"
   ]
  }
 ],
 "metadata": {
  "application/vnd.databricks.v1+notebook": {
   "computePreferences": null,
   "dashboards": [],
   "environmentMetadata": {
    "base_environment": "",
    "environment_version": "2"
   },
   "inputWidgetPreferences": null,
   "language": "python",
   "notebookMetadata": {
    "pythonIndentUnit": 4
   },
   "notebookName": "main",
   "widgets": {}
  },
  "language_info": {
   "name": "python"
  }
 },
 "nbformat": 4,
 "nbformat_minor": 0
}
