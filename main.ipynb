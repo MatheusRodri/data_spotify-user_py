{
 "cells": [
  {
   "cell_type": "markdown",
   "metadata": {
    "application/vnd.databricks.v1+cell": {
     "cellMetadata": {},
     "inputWidgets": {},
     "nuid": "8dd27cef-39d5-4957-8134-b59684eed496",
     "showTitle": false,
     "tableResultSettingsMap": {},
     "title": ""
    }
   },
   "source": [
    "# Analise Spotify"
   ]
  },
  {
   "cell_type": "markdown",
   "metadata": {
    "application/vnd.databricks.v1+cell": {
     "cellMetadata": {},
     "inputWidgets": {},
     "nuid": "0145b53c-8805-4034-929d-79469276c24a",
     "showTitle": false,
     "tableResultSettingsMap": {},
     "title": ""
    }
   },
   "source": [
    "Importe das bibliotecas"
   ]
  },
  {
   "cell_type": "code",
   "execution_count": 0,
   "metadata": {
    "application/vnd.databricks.v1+cell": {
     "cellMetadata": {
      "byteLimit": 2048000,
      "rowLimit": 10000
     },
     "inputWidgets": {},
     "nuid": "715cc12e-b9e9-4d8a-a9ee-5ed53470d473",
     "showTitle": false,
     "tableResultSettingsMap": {},
     "title": ""
    }
   },
   "outputs": [],
   "source": [
    "import pandas as pd"
   ]
  },
  {
   "cell_type": "code",
   "execution_count": 0,
   "metadata": {
    "application/vnd.databricks.v1+cell": {
     "cellMetadata": {
      "byteLimit": 2048000,
      "rowLimit": 10000
     },
     "inputWidgets": {},
     "nuid": "4abffe42-1f85-49e4-8f93-4922dee126f1",
     "showTitle": false,
     "tableResultSettingsMap": {},
     "title": ""
    }
   },
   "outputs": [],
   "source": [
    "data_2021_2023_audio = pd.read_json(\"/Workspace/Users/matheus.rj25@hotmail.com/data_spotify-user_py/data/extended/Streaming_History_Audio_2021-2023_0.json\")\n",
    "data_2023_2024_audio = pd.read_json(\"/Workspace/Users/matheus.rj25@hotmail.com/data_spotify-user_py/data/extended/Streaming_History_Audio_2023-2024_1.json\")\n",
    "data_2024_2025_audio = pd.read_json(\"/Workspace/Users/matheus.rj25@hotmail.com/data_spotify-user_py/data/extended/Streaming_History_Audio_2024-2025_2.json\")\n",
    "data_2022_2025_video = pd.read_json(\"/Workspace/Users/matheus.rj25@hotmail.com/data_spotify-user_py/data/extended/Streaming_History_Video_2022-2025.json\")"
   ]
  },
  {
   "cell_type": "code",
   "execution_count": 0,
   "metadata": {
    "application/vnd.databricks.v1+cell": {
     "cellMetadata": {
      "byteLimit": 2048000,
      "rowLimit": 10000
     },
     "inputWidgets": {},
     "nuid": "7fc98ea9-a585-4a42-9845-43b9f9727ef1",
     "showTitle": false,
     "tableResultSettingsMap": {
      "0": {
       "dataGridStateBlob": "{\"version\":1,\"tableState\":{\"columnPinning\":{\"left\":[\"#row_number#\"],\"right\":[]},\"columnSizing\":{\"skipped\":90,\"offline\":90},\"columnVisibility\":{}},\"settings\":{\"columns\":{}},\"syncTimestamp\":1752017636868}",
       "filterBlob": null,
       "queryPlanFiltersBlob": null,
       "tableResultIndex": 0
      }
     },
     "title": ""
    }
   },
   "outputs": [],
   "source": [
    "# Empinha os dados\n",
    "\n",
    "data_audio = pd.concat([data_2021_2023_audio, data_2023_2024_audio, data_2024_2025_audio])\n",
    "# data_video = data_2022_2025_video\n",
    "\n",
    "display(data_audio.head(5))\n",
    "# display(data_video.head(5))"
   ]
  },
  {
   "cell_type": "code",
   "execution_count": 0,
   "metadata": {
    "application/vnd.databricks.v1+cell": {
     "cellMetadata": {
      "byteLimit": 2048000,
      "rowLimit": 10000
     },
     "inputWidgets": {},
     "nuid": "b307fd78-747a-4d6f-b750-2af4ecd650a4",
     "showTitle": false,
     "tableResultSettingsMap": {},
     "title": ""
    }
   },
   "outputs": [],
   "source": [
    "# Remove colluns desnecessary\n",
    "\n",
    "data_audio_clean = data_audio.drop(columns=[\"conn_country\",\"ip_addr\",\"spotify_episode_uri\",\"audiobook_title\",\"audiobook_uri\",\"audiobook_chapter_uri\",\"audiobook_chapter_title\"])\n",
    "# data_video_clean = data_video.drop(columns=[\"conn_country\",\"ip_addr\",])"
   ]
  },
  {
   "cell_type": "code",
   "execution_count": 0,
   "metadata": {
    "application/vnd.databricks.v1+cell": {
     "cellMetadata": {
      "byteLimit": 2048000,
      "rowLimit": 10000
     },
     "inputWidgets": {},
     "nuid": "1cb1a66f-1aa1-42dd-9791-4fcf9bb160ef",
     "showTitle": false,
     "tableResultSettingsMap": {
      "0": {
       "dataGridStateBlob": "{\"version\":1,\"tableState\":{\"columnPinning\":{\"left\":[\"#row_number#\"],\"right\":[]},\"columnSizing\":{},\"columnVisibility\":{}},\"settings\":{\"columns\":{}},\"syncTimestamp\":1752016858880}",
       "filterBlob": null,
       "queryPlanFiltersBlob": null,
       "tableResultIndex": 0
      }
     },
     "title": ""
    }
   },
   "outputs": [],
   "source": [
    "# Create 3 columns year, mounth and day from ts column\n",
    "\n",
    "#Convert ts column to datetime\n",
    "data_audio_clean['ts'] = pd.to_datetime(data_audio_clean['ts'])\n",
    "\n",
    "#Create columns year\n",
    "data_audio_clean['year'] = data_audio_clean['ts'].dt.year\n",
    "\n",
    "#Create columns mounth with zero left\n",
    "\n",
    "data_audio_clean['mounth'] = data_audio_clean['ts'].dt.strftime('%m')\n",
    "\n",
    "#Create columns day\n",
    "data_audio_clean['day'] = data_audio_clean['ts'].dt.strftime('%d')\n",
    "\n",
    "display(data_audio_clean)"
   ]
  },
  {
   "cell_type": "code",
   "execution_count": 0,
   "metadata": {
    "application/vnd.databricks.v1+cell": {
     "cellMetadata": {
      "byteLimit": 2048000,
      "rowLimit": 10000
     },
     "inputWidgets": {},
     "nuid": "bf93b4cc-9648-4890-a433-cc5c6c9945f4",
     "showTitle": false,
     "tableResultSettingsMap": {},
     "title": ""
    }
   },
   "outputs": [],
   "source": [
    "frequencia_produto = data_audio_clean['episode_name'].value_counts()\n",
    "frequencia_produto"
   ]
  },
  {
   "cell_type": "code",
   "execution_count": 0,
   "metadata": {
    "application/vnd.databricks.v1+cell": {
     "cellMetadata": {},
     "inputWidgets": {},
     "nuid": "3a513551-28e0-4b1f-b403-9f41b56ab639",
     "showTitle": false,
     "tableResultSettingsMap": {},
     "title": ""
    }
   },
   "outputs": [],
   "source": []
  },
  {
   "cell_type": "code",
   "execution_count": 0,
   "metadata": {
    "application/vnd.databricks.v1+cell": {
     "cellMetadata": {},
     "inputWidgets": {},
     "nuid": "608e5de0-3ceb-4741-a3ab-a96622829f72",
     "showTitle": false,
     "tableResultSettingsMap": {},
     "title": ""
    }
   },
   "outputs": [],
   "source": []
  },
  {
   "cell_type": "code",
   "execution_count": 0,
   "metadata": {
    "application/vnd.databricks.v1+cell": {
     "cellMetadata": {},
     "inputWidgets": {},
     "nuid": "4e0f716a-c7d2-415c-9754-ac97f8dd796d",
     "showTitle": false,
     "tableResultSettingsMap": {},
     "title": ""
    }
   },
   "outputs": [],
   "source": []
  },
  {
   "cell_type": "code",
   "execution_count": 0,
   "metadata": {
    "application/vnd.databricks.v1+cell": {
     "cellMetadata": {},
     "inputWidgets": {},
     "nuid": "ac998ce4-ab6e-42f2-9291-1186de626c0d",
     "showTitle": false,
     "tableResultSettingsMap": {},
     "title": ""
    }
   },
   "outputs": [],
   "source": []
  },
  {
   "cell_type": "code",
   "execution_count": 0,
   "metadata": {
    "application/vnd.databricks.v1+cell": {
     "cellMetadata": {},
     "inputWidgets": {},
     "nuid": "9ff3b523-190d-4870-89ba-9b217f36145e",
     "showTitle": false,
     "tableResultSettingsMap": {},
     "title": ""
    }
   },
   "outputs": [],
   "source": []
  },
  {
   "cell_type": "code",
   "execution_count": 0,
   "metadata": {
    "application/vnd.databricks.v1+cell": {
     "cellMetadata": {},
     "inputWidgets": {},
     "nuid": "18111e53-0ec8-4a0c-9e8d-8fb3c036df7c",
     "showTitle": false,
     "tableResultSettingsMap": {},
     "title": ""
    }
   },
   "outputs": [],
   "source": []
  },
  {
   "cell_type": "code",
   "execution_count": 0,
   "metadata": {
    "application/vnd.databricks.v1+cell": {
     "cellMetadata": {},
     "inputWidgets": {},
     "nuid": "dd969b4a-2bba-45fe-b7f7-dbb821041098",
     "showTitle": false,
     "tableResultSettingsMap": {},
     "title": ""
    }
   },
   "outputs": [],
   "source": []
  }
 ],
 "metadata": {
  "application/vnd.databricks.v1+notebook": {
   "computePreferences": null,
   "dashboards": [],
   "environmentMetadata": {
    "base_environment": "",
    "environment_version": "2"
   },
   "inputWidgetPreferences": null,
   "language": "python",
   "notebookMetadata": {
    "pythonIndentUnit": 4
   },
   "notebookName": "main",
   "widgets": {}
  },
  "language_info": {
   "name": "python"
  }
 },
 "nbformat": 4,
 "nbformat_minor": 0
}
